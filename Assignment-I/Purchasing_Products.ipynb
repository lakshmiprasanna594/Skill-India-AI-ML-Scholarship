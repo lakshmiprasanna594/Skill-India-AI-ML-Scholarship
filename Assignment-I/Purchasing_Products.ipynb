{
  "nbformat": 4,
  "nbformat_minor": 0,
  "metadata": {
    "colab": {
      "name": "Purchasing Products.ipynb",
      "provenance": []
    },
    "kernelspec": {
      "name": "python3",
      "display_name": "Python 3"
    },
    "language_info": {
      "name": "python"
    }
  },
  "cells": [
    {
      "cell_type": "markdown",
      "metadata": {
        "id": "zFsQNHk35uXk"
      },
      "source": [
        "**Meesala Bhuvana Lakshmi Prasanna**"
      ]
    },
    {
      "cell_type": "markdown",
      "metadata": {
        "id": "ynifRXpb5xkC"
      },
      "source": [
        "**Purchasing Products**"
      ]
    },
    {
      "cell_type": "markdown",
      "metadata": {
        "id": "3meLDyQuxxJs"
      },
      "source": [
        "**Read Inventory**"
      ]
    },
    {
      "cell_type": "code",
      "metadata": {
        "id": "vtShjeZUx0u_"
      },
      "source": [
        "import json\n",
        "\n",
        "fd = open(\"record.json\",'r')\n",
        "r = fd.read()\n",
        "fd.close()\n",
        "\n",
        "records = json.loads(r)"
      ],
      "execution_count": 33,
      "outputs": []
    },
    {
      "cell_type": "code",
      "metadata": {
        "colab": {
          "base_uri": "https://localhost:8080/"
        },
        "id": "CDqh92mEx2iS",
        "outputId": "c790ae9c-2dec-45ff-a5d2-cde1a9df69c1"
      },
      "source": [
        "records"
      ],
      "execution_count": 34,
      "outputs": [
        {
          "output_type": "execute_result",
          "data": {
            "text/plain": [
              "{'1001': {'name': 'Choco Cake', 'pr': 100, 'qn': 34},\n",
              " '1002': {'name': 'Milk Cake', 'pr': 800, 'qn': 100},\n",
              " '1003': {'name': 'Drink', 'pr': 85, 'qn': 100},\n",
              " '1004': {'name': 'Candy', 'pr': 5, 'qn': 1000},\n",
              " '1005': {'name': 'Pen', 'pr': 20, 'qn': 100},\n",
              " '1006': {'name': 'Phone', 'pr': 50000, 'qn': 10},\n",
              " '1007': {'name': 'Mic', 'pr': 1500, 'qn': 0},\n",
              " '1008': {'name': 'Case', 'pr': 599, 'qn': 5},\n",
              " '1009': {'name': 'Keyboard', 'pr': 1999, 'qn': 10},\n",
              " '1010': {'name': 'Chalk Pieces', 'pr': 150, 'qn': 3}}"
            ]
          },
          "metadata": {},
          "execution_count": 34
        }
      ]
    },
    {
      "cell_type": "markdown",
      "metadata": {
        "id": "FEAzMewQx7MP"
      },
      "source": [
        "**Purchase Items**"
      ]
    },
    {
      "cell_type": "code",
      "metadata": {
        "colab": {
          "base_uri": "https://localhost:8080/"
        },
        "id": "ZfUQ5HVXx-3E",
        "outputId": "f2e9f6db-8b27-4654-f39f-08caa548c389"
      },
      "source": [
        "ui_prod  = str(input(\"Enter the product_Id: \"))\n",
        "ui_quant = int(input(\"Enter the quantity: \"))\n",
        "\n",
        "\n",
        "print(\"Product: \", records[ui_prod]['name'])\n",
        "print(\"Price: \", records[ui_prod]['pr'])\n",
        "print(\"Billing Amount: \", records[ui_prod]['pr'] * ui_quant)\n",
        "\n",
        "records[ui_prod]['qn'] = records[ui_prod]['qn'] - ui_quant"
      ],
      "execution_count": 35,
      "outputs": [
        {
          "output_type": "stream",
          "name": "stdout",
          "text": [
            "Enter the product_Id: 1007\n",
            "Enter the quantity: 0\n",
            "Product:  Mic\n",
            "Price:  1500\n",
            "Billing Amount:  0\n"
          ]
        }
      ]
    },
    {
      "cell_type": "markdown",
      "metadata": {
        "id": "8bA2zneqyBs9"
      },
      "source": [
        "**Update Inventory after purchasing Items**"
      ]
    },
    {
      "cell_type": "code",
      "metadata": {
        "id": "UsnIsw7AyH8v"
      },
      "source": [
        "js = json.dumps(records)\n",
        "\n",
        "fd = open(\"record.json\",'w')\n",
        "fd.write(js)\n",
        "fd.close()"
      ],
      "execution_count": 36,
      "outputs": []
    },
    {
      "cell_type": "markdown",
      "metadata": {
        "id": "5vDgWP_uyKey"
      },
      "source": [
        "**Sales JSON**"
      ]
    },
    {
      "cell_type": "code",
      "metadata": {
        "colab": {
          "base_uri": "https://localhost:8080/"
        },
        "id": "YrFo8X5ByNqs",
        "outputId": "d7b8d221-b77d-4f8b-85f3-4c7258c099b7"
      },
      "source": [
        "{'prod' : ui_prod, 'qn' : ui_quant, 'amount': records[ui_prod]['pr'] * ui_quant}"
      ],
      "execution_count": 37,
      "outputs": [
        {
          "output_type": "execute_result",
          "data": {
            "text/plain": [
              "{'amount': 0, 'prod': '1007', 'qn': 0}"
            ]
          },
          "metadata": {},
          "execution_count": 37
        }
      ]
    },
    {
      "cell_type": "code",
      "metadata": {
        "id": "jx4pdmehyP-X"
      },
      "source": [
        "sales = {1 : {'prod' : ui_prod, 'qn' : ui_quant, 'amount': records[ui_prod]['pr'] * ui_quant},\n",
        "         2 : {'prod' : ui_prod, 'qn' : ui_quant, 'amount': records[ui_prod]['pr'] * ui_quant},\n",
        "         3 : {'prod' : ui_prod, 'qn' : ui_quant, 'amount': records[ui_prod]['pr'] * ui_quant}}"
      ],
      "execution_count": 38,
      "outputs": []
    },
    {
      "cell_type": "code",
      "metadata": {
        "colab": {
          "base_uri": "https://localhost:8080/"
        },
        "id": "mTrCcTqb1CdH",
        "outputId": "c79cfe1c-6e07-4703-b30e-a9dd46adaaad"
      },
      "source": [
        "{ (len(sales) + 1) : {'prod' : ui_prod, 'qn' : ui_quant, 'amount': records[ui_prod]['pr'] * ui_quant}}"
      ],
      "execution_count": 24,
      "outputs": [
        {
          "output_type": "execute_result",
          "data": {
            "text/plain": [
              "{4: {'amount': 19990, 'prod': '1009', 'qn': 10}}"
            ]
          },
          "metadata": {},
          "execution_count": 24
        }
      ]
    },
    {
      "cell_type": "code",
      "metadata": {
        "id": "ZLAjtsVj0hdb"
      },
      "source": [
        "sales[(len(sales) + 1)] : {'prod' : ui_prod, 'qn' : ui_quant, 'amount': records[ui_prod]['pr'] * ui_quant}"
      ],
      "execution_count": 39,
      "outputs": []
    },
    {
      "cell_type": "code",
      "metadata": {
        "colab": {
          "base_uri": "https://localhost:8080/"
        },
        "id": "GZSM_2RD2LTX",
        "outputId": "69af3400-eb0d-496a-f4f5-e0b78f640881"
      },
      "source": [
        "sales"
      ],
      "execution_count": 40,
      "outputs": [
        {
          "output_type": "execute_result",
          "data": {
            "text/plain": [
              "{1: {'amount': 0, 'prod': '1007', 'qn': 0},\n",
              " 2: {'amount': 0, 'prod': '1007', 'qn': 0},\n",
              " 3: {'amount': 0, 'prod': '1007', 'qn': 0}}"
            ]
          },
          "metadata": {},
          "execution_count": 40
        }
      ]
    },
    {
      "cell_type": "code",
      "metadata": {
        "colab": {
          "base_uri": "https://localhost:8080/",
          "height": 35
        },
        "id": "r4eAHry-3be8",
        "outputId": "41d67bca-3b9f-42a0-fc48-92a29f608f1a"
      },
      "source": [
        "json.dumps(sales)"
      ],
      "execution_count": 41,
      "outputs": [
        {
          "output_type": "execute_result",
          "data": {
            "application/vnd.google.colaboratory.intrinsic+json": {
              "type": "string"
            },
            "text/plain": [
              "'{\"1\": {\"prod\": \"1007\", \"qn\": 0, \"amount\": 0}, \"2\": {\"prod\": \"1007\", \"qn\": 0, \"amount\": 0}, \"3\": {\"prod\": \"1007\", \"qn\": 0, \"amount\": 0}}'"
            ]
          },
          "metadata": {},
          "execution_count": 41
        }
      ]
    },
    {
      "cell_type": "code",
      "metadata": {
        "id": "rOQUZPQm3e1A"
      },
      "source": [
        "fd = open(\"record.json\", \"r\")\n",
        "r = fd.read()\n",
        "fd.close()"
      ],
      "execution_count": 44,
      "outputs": []
    },
    {
      "cell_type": "code",
      "metadata": {
        "id": "2N6O11PY5P6t"
      },
      "source": [
        ""
      ],
      "execution_count": null,
      "outputs": []
    }
  ]
}